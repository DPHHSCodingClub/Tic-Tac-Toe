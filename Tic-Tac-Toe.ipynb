{
 "cells": [
  {
   "cell_type": "code",
   "execution_count": 230,
   "metadata": {},
   "outputs": [],
   "source": [
    "import numpy as np\n",
    "import copy"
   ]
  },
  {
   "cell_type": "markdown",
   "metadata": {},
   "source": [
    "## How we will code a tic-tac-toe game:\n",
    "\n",
    "1. We need to make a function to display a board on the screen\n",
    "2. We need to make a function to ask the players where they want to place their markers\n",
    "3. We need to make a function to check if a player won\n",
    "4. Combine all these functions together\n",
    "\n",
    "#### How to improve this code!\n",
    "1. Try to enforce that you cannot put your marker on someone else's marker\n",
    "2. Once the game is finished, ask the user if they would like to play again"
   ]
  },
  {
   "cell_type": "markdown",
   "metadata": {},
   "source": [
    "### 1. Making a function to display a board"
   ]
  },
  {
   "cell_type": "code",
   "execution_count": 236,
   "metadata": {},
   "outputs": [],
   "source": [
    "def show_board(gameboard):\n",
    "    \n",
    "    # Make a horizontal line, just for viewing pleasure\n",
    "    print( '-'*13 )\n",
    "    \n",
    "    # Print out markers in each row\n",
    "    for row in range(3):\n",
    "        print( ' ',gameboard[row][0], '|', gameboard[row][1], '|', gameboard[row][2])\n",
    "        print( '-'*13 )\n",
    "        \n",
    "    print(\"\\n\")"
   ]
  },
  {
   "cell_type": "markdown",
   "metadata": {},
   "source": [
    "### 2. Making a function to place the marker"
   ]
  },
  {
   "cell_type": "code",
   "execution_count": 237,
   "metadata": {},
   "outputs": [],
   "source": [
    "def place_marker(gameboard,x='X'):\n",
    "    \n",
    "    # Ask user for input in format of row column (alter however you see fit)\n",
    "    position = input(\"PLAYER \"+x+\": Where would you like to place your marker? Give the row and column (ex: 1 1)     \")\n",
    "    position = position.split(\" \")\n",
    "    \n",
    "    # Subtract 1 from input, since Python starts counting from 0\n",
    "    row = int(position[0])-1\n",
    "    column = int(position[1])-1\n",
    "    \n",
    "    # Place the marker\n",
    "    gameboard[row][column] = x"
   ]
  },
  {
   "cell_type": "markdown",
   "metadata": {},
   "source": [
    "### 3. Making a function to check if player won"
   ]
  },
  {
   "cell_type": "code",
   "execution_count": 238,
   "metadata": {},
   "outputs": [],
   "source": [
    "def didyouwin(gameboard, x = 'X'):\n",
    "    # Make a copy of the board, but remove the other players markers so we can check if current player won\n",
    "    # copy.deepcopy is used so we don't modify the original list itself\n",
    "    copy_list = copy.deepcopy(gameboard)\n",
    "\n",
    "    for row in range(3):\n",
    "        for column in range(3):\n",
    "            if copy_list[row][column] != x:\n",
    "                copy_list[row][column] = 0\n",
    "    \n",
    "    # Horizontal wins\n",
    "    win1 = [[x,x,x],[0,0,0],[0,0,0]]\n",
    "    win2 = [[0,0,0],[x,x,x],[0,0,0]]\n",
    "    win3 = [[0,0,0],[0,0,0],[x,x,x]]\n",
    "\n",
    "    # Vertical wins\n",
    "    win4 = [[x,0,0],[x,0,0],[x,0,0]]\n",
    "    win5 = [[0,x,0],[0,x,0],[0,x,0]]\n",
    "    win6 = [[0,0,x],[0,0,x],[0,0,x]]\n",
    "\n",
    "    # Diagonal wins\n",
    "    win7 = [[x,0,0],[0,x,0],[0,0,x]]\n",
    "    win8 = [[0,0,x],[0,x,0],[x,0,0]]\n",
    "    \n",
    "    # Combine all winning boards into a list of boards\n",
    "    winning_list = [win1,win2,win3,win4,win5,win6,win7,win8]\n",
    "    \n",
    "    # Cycle through winning boards to see if player won\n",
    "    win = False\n",
    "    for winning_board in winning_list:\n",
    "        # if np.array_equal(winning_board,copy):\n",
    "        if winning_board == copy_list:\n",
    "            print('Player',x, 'wins!')\n",
    "            win = True\n",
    "            break\n",
    "            \n",
    "    return win"
   ]
  },
  {
   "cell_type": "markdown",
   "metadata": {},
   "source": [
    "### Putting everything together into a tic-tac-toe function\n",
    "\n",
    "1. Make an empty board\n",
    "2. Ask player x to choose a position\n",
    "3. Check if player x won\n",
    "4. Ask player o to choose a position\n",
    "5. Check if player o won\n",
    "6. Repeat 2-5 until you have a winner"
   ]
  },
  {
   "cell_type": "code",
   "execution_count": 239,
   "metadata": {},
   "outputs": [],
   "source": [
    "def tic_tac_toe():\n",
    "    # Make an empty board\n",
    "    board = [[' ',' ',' '],\n",
    "         [' ',' ',' '],\n",
    "         [' ',' ',' ']]\n",
    "    \n",
    "    # Show your board\n",
    "    show_board(board)\n",
    "    \n",
    "    # Define the players\n",
    "    playerx = 'X'\n",
    "    playero = 'O'\n",
    "    \n",
    "    # Define something to check if game is over or not\n",
    "    gameover = False\n",
    "    \n",
    "    while (gameover == False):\n",
    "           \n",
    "            # Ask player x to choose a position, then show the board\n",
    "            place_marker(board,playerx)\n",
    "            show_board(board)\n",
    "            \n",
    "            # Check if player x won\n",
    "            if didyouwin(board,playerx) == True:\n",
    "                gameover == True\n",
    "                break\n",
    "            \n",
    "            # Otherwise, ask player o to play\n",
    "            place_marker(board,playero)\n",
    "            show_board(board)\n",
    "            \n",
    "            # Check if player o won\n",
    "            if didyouwin(board,playero) == True:\n",
    "                gameover == True\n",
    "                break"
   ]
  },
  {
   "cell_type": "markdown",
   "metadata": {},
   "source": [
    "### Test your game!!"
   ]
  },
  {
   "cell_type": "code",
   "execution_count": 241,
   "metadata": {},
   "outputs": [
    {
     "name": "stdout",
     "output_type": "stream",
     "text": [
      "-------------\n",
      "    |   |  \n",
      "-------------\n",
      "    |   |  \n",
      "-------------\n",
      "    |   |  \n",
      "-------------\n",
      "\n",
      "\n",
      "PLAYER X: Where would you like to place your marker? Give the row and column (ex: 1 1)     2 2\n",
      "-------------\n",
      "    |   |  \n",
      "-------------\n",
      "    | X |  \n",
      "-------------\n",
      "    |   |  \n",
      "-------------\n",
      "\n",
      "\n",
      "PLAYER O: Where would you like to place your marker? Give the row and column (ex: 1 1)     1 1\n",
      "-------------\n",
      "  O |   |  \n",
      "-------------\n",
      "    | X |  \n",
      "-------------\n",
      "    |   |  \n",
      "-------------\n",
      "\n",
      "\n",
      "PLAYER X: Where would you like to place your marker? Give the row and column (ex: 1 1)     1 3\n",
      "-------------\n",
      "  O |   | X\n",
      "-------------\n",
      "    | X |  \n",
      "-------------\n",
      "    |   |  \n",
      "-------------\n",
      "\n",
      "\n",
      "PLAYER O: Where would you like to place your marker? Give the row and column (ex: 1 1)     1 2\n",
      "-------------\n",
      "  O | O | X\n",
      "-------------\n",
      "    | X |  \n",
      "-------------\n",
      "    |   |  \n",
      "-------------\n",
      "\n",
      "\n",
      "PLAYER X: Where would you like to place your marker? Give the row and column (ex: 1 1)     3 1\n",
      "-------------\n",
      "  O | O | X\n",
      "-------------\n",
      "    | X |  \n",
      "-------------\n",
      "  X |   |  \n",
      "-------------\n",
      "\n",
      "\n",
      "Player X wins!\n"
     ]
    }
   ],
   "source": [
    "tic_tac_toe()"
   ]
  },
  {
   "cell_type": "code",
   "execution_count": null,
   "metadata": {},
   "outputs": [],
   "source": []
  }
 ],
 "metadata": {
  "kernelspec": {
   "display_name": "Python 3 (ipykernel)",
   "language": "python",
   "name": "python3"
  },
  "language_info": {
   "codemirror_mode": {
    "name": "ipython",
    "version": 3
   },
   "file_extension": ".py",
   "mimetype": "text/x-python",
   "name": "python",
   "nbconvert_exporter": "python",
   "pygments_lexer": "ipython3",
   "version": "3.8.3"
  }
 },
 "nbformat": 4,
 "nbformat_minor": 4
}
